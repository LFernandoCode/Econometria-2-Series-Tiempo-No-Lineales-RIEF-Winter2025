{
  "cells": [
    {
      "cell_type": "markdown",
      "id": "0976509e",
      "metadata": {
        "id": "0976509e"
      },
      "source": [
        "# Librerías"
      ]
    },
    {
      "cell_type": "code",
      "execution_count": null,
      "id": "4e8b6ed2",
      "metadata": {
        "id": "4e8b6ed2"
      },
      "outputs": [],
      "source": [
        "#!pip install pandas scikit-learn numpy matplotlib\n",
        "import pandas as pd\n",
        "from sklearn.metrics import precision_score, recall_score, f1_score, confusion_matrix\n",
        "import numpy as np\n",
        "import matplotlib.pyplot as plt\n",
        "from sklearn.model_selection import train_test_split\n",
        "from sklearn.ensemble import RandomForestClassifier\n",
        "import seaborn as sns\n",
        "from google.colab import files"
      ]
    },
    {
      "cell_type": "markdown",
      "id": "e7970ddc",
      "metadata": {
        "id": "e7970ddc"
      },
      "source": [
        "# Importar los datos"
      ]
    },
    {
      "cell_type": "code",
      "source": [
        "uploaded = files.upload()"
      ],
      "metadata": {
        "id": "KsE3bW2GBSaR"
      },
      "id": "KsE3bW2GBSaR",
      "execution_count": null,
      "outputs": []
    },
    {
      "cell_type": "code",
      "execution_count": null,
      "id": "baee4eab",
      "metadata": {
        "id": "baee4eab"
      },
      "outputs": [],
      "source": [
        "\n",
        "# Supongamos que tu archivo se llama dataset.xlsx\n",
        "df = pd.read_excel(\"dataset.xlsx\", index_col=0, parse_dates=True)\n",
        "\n",
        "# Información del dataframe\n",
        "df.info()\n",
        "print(df.head())\n",
        "# Ver distribución de la columna 'diagnostico'\n",
        "df['ciclo'].value_counts()"
      ]
    },
    {
      "cell_type": "markdown",
      "id": "ccf3c06f",
      "metadata": {
        "id": "ccf3c06f"
      },
      "source": [
        "# Crear set de entrenamiento"
      ]
    },
    {
      "cell_type": "code",
      "execution_count": null,
      "id": "a0df11f6",
      "metadata": {
        "id": "a0df11f6"
      },
      "outputs": [],
      "source": [
        "# X: entradas, Y: salida a predecir\n",
        "X = df.drop('ciclo', axis=1) # Drop the 'ciclo' column from df\n",
        "Y = df['ciclo'] # Use the correct column name for Y from df\n",
        "\n",
        "# Partición\n",
        "train_size = int(0.5 * len(X))\n",
        "\n",
        "# Entrenamiento: primeros 70%\n",
        "x_train = X.iloc[:train_size]\n",
        "y_train = Y.iloc[:train_size]\n",
        "\n",
        "# Test: últimos 30%\n",
        "x_test = X.iloc[train_size:]\n",
        "y_test = Y.iloc[train_size:]\n",
        "\n",
        "# Imprimir tamaños resultantes\n",
        "print('Tamaño set de entrenamiento: ', x_train.shape, y_train.shape)\n",
        "print('Tamaño set de prueba: ', x_test.shape, y_test.shape)"
      ]
    },
    {
      "cell_type": "markdown",
      "id": "d5f95bc8",
      "metadata": {
        "id": "d5f95bc8"
      },
      "source": [
        "# Entrenar bosque aleatorio simple\n",
        "obb_score se realiza sobre la muestra out of the bag"
      ]
    },
    {
      "cell_type": "code",
      "execution_count": null,
      "id": "bf238dae",
      "metadata": {
        "id": "bf238dae"
      },
      "outputs": [],
      "source": [
        "bosque = RandomForestClassifier(random_state=123,\n",
        "                                oob_score=True)\n",
        "bosque.fit(x_train,y_train)\n",
        "\n",
        "bosque.oob_score_\n",
        "len(bosque.estimators_)\n",
        "bosque.estimators_[50].get_n_leaves()\n",
        "\n",
        "\n",
        "print(\"OOB Score:\", bosque.oob_score_)\n",
        "print(\"Número de árboles:\", len(bosque.estimators_))\n",
        "print(\"Número de hojas en el árbol 50:\", bosque.estimators_[50].get_n_leaves())"
      ]
    },
    {
      "cell_type": "code",
      "execution_count": null,
      "id": "d6b3fc0a",
      "metadata": {
        "id": "d6b3fc0a"
      },
      "outputs": [],
      "source": [
        "#Matriz de clasificación de probabilidades\n",
        "bosque.oob_decision_function_.shape\n",
        "bosque.oob_decision_function_\n",
        "print(\"Shape de oob_decision_function_:\", bosque.oob_decision_function_.shape)\n",
        "print(\"Valores de oob_decision_function_:\\n\", bosque.oob_decision_function_)"
      ]
    },
    {
      "cell_type": "markdown",
      "id": "bf0f436d",
      "metadata": {
        "id": "bf0f436d"
      },
      "source": [
        "METRICAS\n",
        "Precisión (precision): mide qué proporción de las predicciones positivas fueron correctas. Es decir, de todas las veces que el modelo predijo “Y1”, cuántas realmente fueron “Y1”.\n",
        "\n",
        "Recall (recall): indica qué proporción de los positivos reales fueron detectados por el modelo. Es decir, de todos los casos que realmente fueron “Y1”, cuántos predijo correctamente.\n",
        "\n",
        "Puntaje F1 (puntaje_f1): es la media armónica entre precisión y recall. Resume en un solo número el balance entre ambos, útil cuando las clases están desbalanceadas."
      ]
    },
    {
      "cell_type": "code",
      "execution_count": null,
      "id": "6cad1fbc",
      "metadata": {
        "id": "6cad1fbc"
      },
      "outputs": [],
      "source": [
        "#Metricas de evaluación a partir de la matriz de confusión\n",
        "\n",
        "# Probabilidades OOB\n",
        "oob_probs = bosque.oob_decision_function_\n",
        "\n",
        "# Convertir probabilidades a categorías predichas\n",
        "oob_preds = np.argmax(oob_probs, axis=1) # Seleccionar probabilidad más alta\n",
        "\n",
        "# Calcular precision, recall y puntaje f1\n",
        "precision = precision_score(y_train, oob_preds)\n",
        "recall = recall_score(y_train, oob_preds)\n",
        "puntaje_f1 = f1_score(y_train, oob_preds)\n",
        "\n",
        "print(f'Precision: {precision:.4f}')\n",
        "print(f'Recall: {recall:.4f}')\n",
        "print(f'Puntaje F1: {puntaje_f1:.4f}')"
      ]
    },
    {
      "cell_type": "markdown",
      "id": "fd4d354b",
      "metadata": {
        "id": "fd4d354b"
      },
      "source": [
        "# Entrenamiento del modelo variando parametros"
      ]
    },
    {
      "cell_type": "code",
      "execution_count": null,
      "id": "9d1038d8",
      "metadata": {
        "id": "9d1038d8"
      },
      "outputs": [],
      "source": [
        "# Entrenar bosque con diferentes valores de \"n_estimators\" número de árboles\n",
        "\n",
        "N_ESTIMADORES = np.arange(10,301,10)\n",
        "f1_scores = []\n",
        "\n",
        "for n_arboles in N_ESTIMADORES:\n",
        "    print(f'Entrenando con {n_arboles} árboles...')\n",
        "    bosque = RandomForestClassifier(n_estimators=n_arboles,\n",
        "                                    random_state=123,\n",
        "                                    oob_score=True)\n",
        "    bosque.fit(x_train,y_train)\n",
        "    oob_probs = bosque.oob_decision_function_\n",
        "    oob_preds = np.argmax(oob_probs, axis=1)\n",
        "    f1_scores.append(f1_score(y_train, oob_preds))\n",
        "\n",
        "# Graficar f1_scores vs. n_arboles\n",
        "plt.plot(N_ESTIMADORES, f1_scores)\n",
        "plt.xlabel('Número de árboles')\n",
        "plt.ylabel('F1-score');"
      ]
    },
    {
      "cell_type": "code",
      "execution_count": null,
      "id": "0df6d73f",
      "metadata": {
        "id": "0df6d73f"
      },
      "outputs": [],
      "source": [
        "# Con N arboles definidos y probar con max_depth  profundidad máxima\n",
        "MAX_DEPTHS = np.arange(2,61,2)\n",
        "f1_scores = []\n",
        "\n",
        "for max_depth in MAX_DEPTHS:\n",
        "    print(f'Entrenando con max_depth = {max_depth} ...')\n",
        "    bosque = RandomForestClassifier(n_estimators=300,\n",
        "                                    max_depth=max_depth,\n",
        "                                    random_state=123,\n",
        "                                    oob_score=True)\n",
        "    bosque.fit(x_train,y_train)\n",
        "    oob_probs = bosque.oob_decision_function_\n",
        "    oob_preds = np.argmax(oob_probs, axis=1)\n",
        "    f1_scores.append(f1_score(y_train, oob_preds))\n",
        "\n",
        "# Graficar f1_scores vs. max_depth\n",
        "plt.plot(MAX_DEPTHS, f1_scores)\n",
        "plt.xlabel('Máxima profundidad')\n",
        "plt.ylabel('F1-score');"
      ]
    },
    {
      "cell_type": "code",
      "execution_count": null,
      "id": "fbdabe2c",
      "metadata": {
        "id": "fbdabe2c"
      },
      "outputs": [],
      "source": [
        "# Con N arboles definidos y probar con max_features número máximo de características\n",
        "MAX_FEATURES = np.arange(1,len(x_train.columns))\n",
        "f1_scores = []\n",
        "\n",
        "for max_features in MAX_FEATURES:\n",
        "    print(f'Entrenando con max_features = {max_features} ...')\n",
        "    bosque = RandomForestClassifier(n_estimators=25,\n",
        "                                    max_features = max_features,\n",
        "                                    random_state=123,\n",
        "                                    oob_score=True)\n",
        "    bosque.fit(x_train,y_train)\n",
        "    oob_probs = bosque.oob_decision_function_\n",
        "    oob_preds = np.argmax(oob_probs, axis=1)\n",
        "    f1_scores.append(f1_score(y_train, oob_preds))\n",
        "\n",
        "# Graficar f1_scores vs. max_features\n",
        "plt.plot(MAX_FEATURES, f1_scores)\n",
        "plt.xlabel('Máximo número de características')\n",
        "plt.ylabel('F1-score');"
      ]
    },
    {
      "cell_type": "markdown",
      "id": "272db02d",
      "metadata": {
        "id": "272db02d"
      },
      "source": [
        "# Predicciones"
      ]
    },
    {
      "cell_type": "code",
      "execution_count": null,
      "id": "11267ebf",
      "metadata": {
        "id": "11267ebf"
      },
      "outputs": [],
      "source": [
        "# Entrenemos el bosque con los parámetros\n",
        "bosque = RandomForestClassifier(n_estimators=300,   #cambiar\n",
        "                                max_depth=8,       #cambiar\n",
        "                                max_features=6,    #cambiar\n",
        "                                random_state=123,\n",
        "                                oob_score=True)\n",
        "bosque.fit(x_train,y_train)"
      ]
    },
    {
      "cell_type": "code",
      "execution_count": null,
      "id": "91ac347b",
      "metadata": {
        "id": "91ac347b"
      },
      "outputs": [],
      "source": [
        "# Finalmente predicciones\n",
        "preds = bosque.predict(x_test)\n",
        "preds\n",
        "\n",
        "cm = confusion_matrix(y_test, preds, labels=[0, 1])\n",
        "\n",
        "\n",
        "sns.heatmap(cm, annot=True, fmt='d', cmap='Blues')\n",
        "plt.xlabel('Predicho')\n",
        "plt.ylabel('Real')\n",
        "plt.show()\n",
        "\n",
        "print(\"Recall:\", recall_score(y_test, preds))\n",
        "print(\"Precision:\", precision_score(y_test, preds))\n",
        "print(\"F1 Score:\", f1_score(y_test, preds))"
      ]
    },
    {
      "cell_type": "code",
      "source": [
        "# Suponiendo que y_test y preds están en el mismo orden temporal\n",
        "plt.figure(figsize=(12,5))\n",
        "\n",
        "# Graficar valores reales\n",
        "plt.plot(y_test.reset_index(drop=True), label='Real', marker='o')\n",
        "\n",
        "# Graficar predicciones\n",
        "plt.plot(preds, label='Predicho', marker='x')\n",
        "\n",
        "plt.xlabel('Periodo')\n",
        "plt.ylabel('Valor')\n",
        "plt.title('Comparación de valores reales vs predichos')\n",
        "plt.legend()\n",
        "plt.show()"
      ],
      "metadata": {
        "id": "pd6GjAl1XNIv"
      },
      "id": "pd6GjAl1XNIv",
      "execution_count": null,
      "outputs": []
    },
    {
      "cell_type": "code",
      "source": [
        "#RandomForestClassifier entrenado\n",
        "importancia = pd.DataFrame({\n",
        "    'Caracteristica': x_train.columns,\n",
        "    'Importancia': bosque.feature_importances_\n",
        "})\n",
        "\n",
        "# Ordenar de mayor a menor\n",
        "importancia = importancia.sort_values(by='Importancia', ascending=False)\n",
        "print(importancia)"
      ],
      "metadata": {
        "id": "r0IJ6dcjXpS7"
      },
      "id": "r0IJ6dcjXpS7",
      "execution_count": null,
      "outputs": []
    }
  ],
  "metadata": {
    "kernelspec": {
      "display_name": "Python 3",
      "language": "python",
      "name": "python3"
    },
    "language_info": {
      "codemirror_mode": {
        "name": "ipython",
        "version": 3
      },
      "file_extension": ".py",
      "mimetype": "text/x-python",
      "name": "python",
      "nbconvert_exporter": "python",
      "pygments_lexer": "ipython3",
      "version": "3.13.3"
    },
    "colab": {
      "provenance": []
    }
  },
  "nbformat": 4,
  "nbformat_minor": 5
}